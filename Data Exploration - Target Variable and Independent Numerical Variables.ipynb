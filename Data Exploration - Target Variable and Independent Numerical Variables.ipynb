{
 "cells": [
  {
   "cell_type": "code",
   "execution_count": 1,
   "id": "d9456029",
   "metadata": {},
   "outputs": [],
   "source": [
    "import pandas as pd\n",
    "import numpy as np"
   ]
  },
  {
   "cell_type": "code",
   "execution_count": 2,
   "id": "ae1954dd",
   "metadata": {},
   "outputs": [],
   "source": [
    "Raw_housing_Data = pd.read_csv('1. Regression - Module - (Housing Prices).csv')"
   ]
  },
  {
   "cell_type": "code",
   "execution_count": 3,
   "id": "e8646941",
   "metadata": {},
   "outputs": [
    {
     "data": {
      "text/html": [
       "<div>\n",
       "<style scoped>\n",
       "    .dataframe tbody tr th:only-of-type {\n",
       "        vertical-align: middle;\n",
       "    }\n",
       "\n",
       "    .dataframe tbody tr th {\n",
       "        vertical-align: top;\n",
       "    }\n",
       "\n",
       "    .dataframe thead th {\n",
       "        text-align: right;\n",
       "    }\n",
       "</style>\n",
       "<table border=\"1\" class=\"dataframe\">\n",
       "  <thead>\n",
       "    <tr style=\"text-align: right;\">\n",
       "      <th></th>\n",
       "      <th>ID</th>\n",
       "      <th>Date House was Sold</th>\n",
       "      <th>Sale Price</th>\n",
       "      <th>No of Bedrooms</th>\n",
       "      <th>No of Bathrooms</th>\n",
       "      <th>Flat Area (in Sqft)</th>\n",
       "      <th>Lot Area (in Sqft)</th>\n",
       "      <th>No of Floors</th>\n",
       "      <th>Waterfront View</th>\n",
       "      <th>No of Times Visited</th>\n",
       "      <th>...</th>\n",
       "      <th>Overall Grade</th>\n",
       "      <th>Area of the House from Basement (in Sqft)</th>\n",
       "      <th>Basement Area (in Sqft)</th>\n",
       "      <th>Age of House (in Years)</th>\n",
       "      <th>Renovated Year</th>\n",
       "      <th>Zipcode</th>\n",
       "      <th>Latitude</th>\n",
       "      <th>Longitude</th>\n",
       "      <th>Living Area after Renovation (in Sqft)</th>\n",
       "      <th>Lot Area after Renovation (in Sqft)</th>\n",
       "    </tr>\n",
       "  </thead>\n",
       "  <tbody>\n",
       "    <tr>\n",
       "      <th>0</th>\n",
       "      <td>7129300520</td>\n",
       "      <td>14 October 2017</td>\n",
       "      <td>221900.0</td>\n",
       "      <td>3</td>\n",
       "      <td>1.00</td>\n",
       "      <td>1180.0</td>\n",
       "      <td>5650.0</td>\n",
       "      <td>1.0</td>\n",
       "      <td>No</td>\n",
       "      <td>None</td>\n",
       "      <td>...</td>\n",
       "      <td>7</td>\n",
       "      <td>1180.0</td>\n",
       "      <td>0</td>\n",
       "      <td>63</td>\n",
       "      <td>0</td>\n",
       "      <td>98178.0</td>\n",
       "      <td>47.5112</td>\n",
       "      <td>-122.257</td>\n",
       "      <td>1340.0</td>\n",
       "      <td>5650</td>\n",
       "    </tr>\n",
       "    <tr>\n",
       "      <th>1</th>\n",
       "      <td>6414100192</td>\n",
       "      <td>14 December 2017</td>\n",
       "      <td>538000.0</td>\n",
       "      <td>3</td>\n",
       "      <td>2.25</td>\n",
       "      <td>2570.0</td>\n",
       "      <td>7242.0</td>\n",
       "      <td>2.0</td>\n",
       "      <td>No</td>\n",
       "      <td>None</td>\n",
       "      <td>...</td>\n",
       "      <td>7</td>\n",
       "      <td>2170.0</td>\n",
       "      <td>400</td>\n",
       "      <td>67</td>\n",
       "      <td>1991</td>\n",
       "      <td>98125.0</td>\n",
       "      <td>47.7210</td>\n",
       "      <td>-122.319</td>\n",
       "      <td>1690.0</td>\n",
       "      <td>7639</td>\n",
       "    </tr>\n",
       "    <tr>\n",
       "      <th>2</th>\n",
       "      <td>5631500400</td>\n",
       "      <td>15 February 2016</td>\n",
       "      <td>180000.0</td>\n",
       "      <td>2</td>\n",
       "      <td>1.00</td>\n",
       "      <td>770.0</td>\n",
       "      <td>10000.0</td>\n",
       "      <td>1.0</td>\n",
       "      <td>No</td>\n",
       "      <td>None</td>\n",
       "      <td>...</td>\n",
       "      <td>6</td>\n",
       "      <td>770.0</td>\n",
       "      <td>0</td>\n",
       "      <td>85</td>\n",
       "      <td>0</td>\n",
       "      <td>98028.0</td>\n",
       "      <td>47.7379</td>\n",
       "      <td>-122.233</td>\n",
       "      <td>2720.0</td>\n",
       "      <td>8062</td>\n",
       "    </tr>\n",
       "    <tr>\n",
       "      <th>3</th>\n",
       "      <td>2487200875</td>\n",
       "      <td>14 December 2017</td>\n",
       "      <td>604000.0</td>\n",
       "      <td>4</td>\n",
       "      <td>3.00</td>\n",
       "      <td>1960.0</td>\n",
       "      <td>5000.0</td>\n",
       "      <td>1.0</td>\n",
       "      <td>No</td>\n",
       "      <td>None</td>\n",
       "      <td>...</td>\n",
       "      <td>7</td>\n",
       "      <td>1050.0</td>\n",
       "      <td>910</td>\n",
       "      <td>53</td>\n",
       "      <td>0</td>\n",
       "      <td>98136.0</td>\n",
       "      <td>47.5208</td>\n",
       "      <td>-122.393</td>\n",
       "      <td>1360.0</td>\n",
       "      <td>5000</td>\n",
       "    </tr>\n",
       "    <tr>\n",
       "      <th>4</th>\n",
       "      <td>1954400510</td>\n",
       "      <td>15 February 2016</td>\n",
       "      <td>510000.0</td>\n",
       "      <td>3</td>\n",
       "      <td>2.00</td>\n",
       "      <td>1680.0</td>\n",
       "      <td>8080.0</td>\n",
       "      <td>1.0</td>\n",
       "      <td>No</td>\n",
       "      <td>None</td>\n",
       "      <td>...</td>\n",
       "      <td>8</td>\n",
       "      <td>1680.0</td>\n",
       "      <td>0</td>\n",
       "      <td>31</td>\n",
       "      <td>0</td>\n",
       "      <td>98074.0</td>\n",
       "      <td>47.6168</td>\n",
       "      <td>-122.045</td>\n",
       "      <td>1800.0</td>\n",
       "      <td>7503</td>\n",
       "    </tr>\n",
       "    <tr>\n",
       "      <th>5</th>\n",
       "      <td>7237550310</td>\n",
       "      <td>14 May 2017</td>\n",
       "      <td>1230000.0</td>\n",
       "      <td>4</td>\n",
       "      <td>4.50</td>\n",
       "      <td>5420.0</td>\n",
       "      <td>101930.0</td>\n",
       "      <td>1.0</td>\n",
       "      <td>No</td>\n",
       "      <td>None</td>\n",
       "      <td>...</td>\n",
       "      <td>10</td>\n",
       "      <td>3890.0</td>\n",
       "      <td>1530</td>\n",
       "      <td>17</td>\n",
       "      <td>0</td>\n",
       "      <td>98053.0</td>\n",
       "      <td>47.6561</td>\n",
       "      <td>-122.005</td>\n",
       "      <td>4760.0</td>\n",
       "      <td>101930</td>\n",
       "    </tr>\n",
       "    <tr>\n",
       "      <th>6</th>\n",
       "      <td>1321400060</td>\n",
       "      <td>14 June 2017</td>\n",
       "      <td>257500.0</td>\n",
       "      <td>3</td>\n",
       "      <td>2.25</td>\n",
       "      <td>1715.0</td>\n",
       "      <td>6819.0</td>\n",
       "      <td>2.0</td>\n",
       "      <td>No</td>\n",
       "      <td>None</td>\n",
       "      <td>...</td>\n",
       "      <td>7</td>\n",
       "      <td>1715.0</td>\n",
       "      <td>0</td>\n",
       "      <td>23</td>\n",
       "      <td>0</td>\n",
       "      <td>98003.0</td>\n",
       "      <td>47.3097</td>\n",
       "      <td>-122.327</td>\n",
       "      <td>2238.0</td>\n",
       "      <td>6819</td>\n",
       "    </tr>\n",
       "    <tr>\n",
       "      <th>7</th>\n",
       "      <td>2008000270</td>\n",
       "      <td>15 January 2016</td>\n",
       "      <td>291850.0</td>\n",
       "      <td>3</td>\n",
       "      <td>1.50</td>\n",
       "      <td>1060.0</td>\n",
       "      <td>9711.0</td>\n",
       "      <td>1.0</td>\n",
       "      <td>No</td>\n",
       "      <td>None</td>\n",
       "      <td>...</td>\n",
       "      <td>7</td>\n",
       "      <td>1060.0</td>\n",
       "      <td>0</td>\n",
       "      <td>55</td>\n",
       "      <td>0</td>\n",
       "      <td>98198.0</td>\n",
       "      <td>47.4095</td>\n",
       "      <td>-122.315</td>\n",
       "      <td>1650.0</td>\n",
       "      <td>9711</td>\n",
       "    </tr>\n",
       "    <tr>\n",
       "      <th>8</th>\n",
       "      <td>2414600126</td>\n",
       "      <td>15 April 2016</td>\n",
       "      <td>229500.0</td>\n",
       "      <td>3</td>\n",
       "      <td>1.00</td>\n",
       "      <td>1780.0</td>\n",
       "      <td>7470.0</td>\n",
       "      <td>1.0</td>\n",
       "      <td>No</td>\n",
       "      <td>None</td>\n",
       "      <td>...</td>\n",
       "      <td>7</td>\n",
       "      <td>1050.0</td>\n",
       "      <td>730</td>\n",
       "      <td>58</td>\n",
       "      <td>0</td>\n",
       "      <td>98146.0</td>\n",
       "      <td>47.5123</td>\n",
       "      <td>-122.337</td>\n",
       "      <td>1780.0</td>\n",
       "      <td>8113</td>\n",
       "    </tr>\n",
       "    <tr>\n",
       "      <th>9</th>\n",
       "      <td>3793500160</td>\n",
       "      <td>15 March 2016</td>\n",
       "      <td>323000.0</td>\n",
       "      <td>3</td>\n",
       "      <td>2.50</td>\n",
       "      <td>1890.0</td>\n",
       "      <td>6560.0</td>\n",
       "      <td>2.0</td>\n",
       "      <td>No</td>\n",
       "      <td>None</td>\n",
       "      <td>...</td>\n",
       "      <td>7</td>\n",
       "      <td>1890.0</td>\n",
       "      <td>0</td>\n",
       "      <td>15</td>\n",
       "      <td>0</td>\n",
       "      <td>98038.0</td>\n",
       "      <td>47.3684</td>\n",
       "      <td>-122.031</td>\n",
       "      <td>2390.0</td>\n",
       "      <td>7570</td>\n",
       "    </tr>\n",
       "  </tbody>\n",
       "</table>\n",
       "<p>10 rows × 21 columns</p>\n",
       "</div>"
      ],
      "text/plain": [
       "           ID Date House was Sold  Sale Price  No of Bedrooms  \\\n",
       "0  7129300520     14 October 2017    221900.0               3   \n",
       "1  6414100192    14 December 2017    538000.0               3   \n",
       "2  5631500400    15 February 2016    180000.0               2   \n",
       "3  2487200875    14 December 2017    604000.0               4   \n",
       "4  1954400510    15 February 2016    510000.0               3   \n",
       "5  7237550310         14 May 2017   1230000.0               4   \n",
       "6  1321400060        14 June 2017    257500.0               3   \n",
       "7  2008000270     15 January 2016    291850.0               3   \n",
       "8  2414600126       15 April 2016    229500.0               3   \n",
       "9  3793500160       15 March 2016    323000.0               3   \n",
       "\n",
       "   No of Bathrooms  Flat Area (in Sqft)  Lot Area (in Sqft)  No of Floors  \\\n",
       "0             1.00               1180.0              5650.0           1.0   \n",
       "1             2.25               2570.0              7242.0           2.0   \n",
       "2             1.00                770.0             10000.0           1.0   \n",
       "3             3.00               1960.0              5000.0           1.0   \n",
       "4             2.00               1680.0              8080.0           1.0   \n",
       "5             4.50               5420.0            101930.0           1.0   \n",
       "6             2.25               1715.0              6819.0           2.0   \n",
       "7             1.50               1060.0              9711.0           1.0   \n",
       "8             1.00               1780.0              7470.0           1.0   \n",
       "9             2.50               1890.0              6560.0           2.0   \n",
       "\n",
       "  Waterfront View No of Times Visited  ... Overall Grade  \\\n",
       "0              No                None  ...             7   \n",
       "1              No                None  ...             7   \n",
       "2              No                None  ...             6   \n",
       "3              No                None  ...             7   \n",
       "4              No                None  ...             8   \n",
       "5              No                None  ...            10   \n",
       "6              No                None  ...             7   \n",
       "7              No                None  ...             7   \n",
       "8              No                None  ...             7   \n",
       "9              No                None  ...             7   \n",
       "\n",
       "   Area of the House from Basement (in Sqft)  Basement Area (in Sqft)  \\\n",
       "0                                     1180.0                        0   \n",
       "1                                     2170.0                      400   \n",
       "2                                      770.0                        0   \n",
       "3                                     1050.0                      910   \n",
       "4                                     1680.0                        0   \n",
       "5                                     3890.0                     1530   \n",
       "6                                     1715.0                        0   \n",
       "7                                     1060.0                        0   \n",
       "8                                     1050.0                      730   \n",
       "9                                     1890.0                        0   \n",
       "\n",
       "   Age of House (in Years)  Renovated Year  Zipcode  Latitude  Longitude  \\\n",
       "0                       63               0  98178.0   47.5112   -122.257   \n",
       "1                       67            1991  98125.0   47.7210   -122.319   \n",
       "2                       85               0  98028.0   47.7379   -122.233   \n",
       "3                       53               0  98136.0   47.5208   -122.393   \n",
       "4                       31               0  98074.0   47.6168   -122.045   \n",
       "5                       17               0  98053.0   47.6561   -122.005   \n",
       "6                       23               0  98003.0   47.3097   -122.327   \n",
       "7                       55               0  98198.0   47.4095   -122.315   \n",
       "8                       58               0  98146.0   47.5123   -122.337   \n",
       "9                       15               0  98038.0   47.3684   -122.031   \n",
       "\n",
       "   Living Area after Renovation (in Sqft)  Lot Area after Renovation (in Sqft)  \n",
       "0                                  1340.0                                 5650  \n",
       "1                                  1690.0                                 7639  \n",
       "2                                  2720.0                                 8062  \n",
       "3                                  1360.0                                 5000  \n",
       "4                                  1800.0                                 7503  \n",
       "5                                  4760.0                               101930  \n",
       "6                                  2238.0                                 6819  \n",
       "7                                  1650.0                                 9711  \n",
       "8                                  1780.0                                 8113  \n",
       "9                                  2390.0                                 7570  \n",
       "\n",
       "[10 rows x 21 columns]"
      ]
     },
     "execution_count": 3,
     "metadata": {},
     "output_type": "execute_result"
    }
   ],
   "source": [
    "Raw_housing_Data.head(10)"
   ]
  },
  {
   "cell_type": "code",
   "execution_count": 4,
   "id": "3b910b77",
   "metadata": {},
   "outputs": [
    {
     "name": "stdout",
     "output_type": "stream",
     "text": [
      "<class 'pandas.core.frame.DataFrame'>\n",
      "RangeIndex: 21613 entries, 0 to 21612\n",
      "Data columns (total 21 columns):\n",
      " #   Column                                     Non-Null Count  Dtype  \n",
      "---  ------                                     --------------  -----  \n",
      " 0   ID                                         21613 non-null  int64  \n",
      " 1   Date House was Sold                        21613 non-null  object \n",
      " 2   Sale Price                                 21609 non-null  float64\n",
      " 3   No of Bedrooms                             21613 non-null  int64  \n",
      " 4   No of Bathrooms                            21609 non-null  float64\n",
      " 5   Flat Area (in Sqft)                        21604 non-null  float64\n",
      " 6   Lot Area (in Sqft)                         21604 non-null  float64\n",
      " 7   No of Floors                               21613 non-null  float64\n",
      " 8   Waterfront View                            21613 non-null  object \n",
      " 9   No of Times Visited                        21613 non-null  object \n",
      " 10  Condition of the House                     21613 non-null  object \n",
      " 11  Overall Grade                              21613 non-null  int64  \n",
      " 12  Area of the House from Basement (in Sqft)  21610 non-null  float64\n",
      " 13  Basement Area (in Sqft)                    21613 non-null  int64  \n",
      " 14  Age of House (in Years)                    21613 non-null  int64  \n",
      " 15  Renovated Year                             21613 non-null  int64  \n",
      " 16  Zipcode                                    21612 non-null  float64\n",
      " 17  Latitude                                   21612 non-null  float64\n",
      " 18  Longitude                                  21612 non-null  float64\n",
      " 19  Living Area after Renovation (in Sqft)     21612 non-null  float64\n",
      " 20  Lot Area after Renovation (in Sqft)        21613 non-null  int64  \n",
      "dtypes: float64(10), int64(7), object(4)\n",
      "memory usage: 3.5+ MB\n"
     ]
    }
   ],
   "source": [
    "Raw_housing_Data.info()"
   ]
  },
  {
   "cell_type": "code",
   "execution_count": 5,
   "id": "ffcdecb2",
   "metadata": {},
   "outputs": [
    {
     "data": {
      "text/plain": [
       "0     221900.0\n",
       "1     538000.0\n",
       "2     180000.0\n",
       "3     604000.0\n",
       "4     510000.0\n",
       "5    1230000.0\n",
       "6     257500.0\n",
       "7     291850.0\n",
       "8     229500.0\n",
       "9     323000.0\n",
       "Name: Sale Price, dtype: float64"
      ]
     },
     "execution_count": 5,
     "metadata": {},
     "output_type": "execute_result"
    }
   ],
   "source": [
    "Raw_housing_Data['Sale Price'].head(10)"
   ]
  },
  {
   "cell_type": "code",
   "execution_count": 6,
   "id": "4e0de74e",
   "metadata": {},
   "outputs": [
    {
     "data": {
      "text/plain": [
       "21603     507250.0\n",
       "21604     429000.0\n",
       "21605     610685.0\n",
       "21606    1010000.0\n",
       "21607     475000.0\n",
       "21608     360000.0\n",
       "21609     400000.0\n",
       "21610     402101.0\n",
       "21611     400000.0\n",
       "21612     325000.0\n",
       "Name: Sale Price, dtype: float64"
      ]
     },
     "execution_count": 6,
     "metadata": {},
     "output_type": "execute_result"
    }
   ],
   "source": [
    "Raw_housing_Data['Sale Price'].tail(10)"
   ]
  },
  {
   "cell_type": "code",
   "execution_count": 7,
   "id": "8ee297e6",
   "metadata": {},
   "outputs": [
    {
     "data": {
      "text/plain": [
       "count    2.160900e+04\n",
       "mean     5.401984e+05\n",
       "std      3.673890e+05\n",
       "min      7.500000e+04\n",
       "25%      3.219500e+05\n",
       "50%      4.500000e+05\n",
       "75%      6.450000e+05\n",
       "max      7.700000e+06\n",
       "Name: Sale Price, dtype: float64"
      ]
     },
     "execution_count": 7,
     "metadata": {},
     "output_type": "execute_result"
    }
   ],
   "source": [
    "Raw_housing_Data['Sale Price'].describe()"
   ]
  },
  {
   "cell_type": "code",
   "execution_count": 8,
   "id": "a3a633d7",
   "metadata": {},
   "outputs": [],
   "source": [
    "import matplotlib.pyplot as plt"
   ]
  },
  {
   "cell_type": "code",
   "execution_count": 9,
   "id": "ebf7de33",
   "metadata": {},
   "outputs": [
    {
     "data": {
      "text/plain": [
       "<matplotlib.collections.PathCollection at 0x12abbaa4970>"
      ]
     },
     "execution_count": 9,
     "metadata": {},
     "output_type": "execute_result"
    },
    {
     "data": {
      "image/png": "[encoded data removed]",
      "text/plain": [
       "<Figure size 432x288 with 1 Axes>"
      ]
     },
     "metadata": {
      "needs_background": "light"
     },
     "output_type": "display_data"
    }
   ],
   "source": [
    "plt.scatter(x = Raw_housing_Data['ID'] , y = Raw_housing_Data['Sale Price'])"
   ]
  },
  {
   "cell_type": "code",
   "execution_count": 10,
   "id": "7c0a5584",
   "metadata": {},
   "outputs": [
    {
     "data": {
      "text/plain": [
       "<AxesSubplot:xlabel='Sale Price'>"
      ]
     },
     "execution_count": 10,
     "metadata": {},
     "output_type": "execute_result"
    },
    {
     "data": {
      "image/png": "[encoded data removed]",
      "text/plain": [
       "<Figure size 432x288 with 1 Axes>"
      ]
     },
     "metadata": {
      "needs_background": "light"
     },
     "output_type": "display_data"
    }
   ],
   "source": [
    "import seaborn as sns\n",
    "sns.boxplot(x=Raw_housing_Data['Sale Price'])"
   ]
  },
  {
   "cell_type": "code",
   "execution_count": 11,
   "id": "79a3c569",
   "metadata": {},
   "outputs": [
    {
     "data": {
      "text/plain": [
       "count    2.160900e+04\n",
       "mean     5.401984e+05\n",
       "std      3.673890e+05\n",
       "min      7.500000e+04\n",
       "25%      3.219500e+05\n",
       "50%      4.500000e+05\n",
       "75%      6.450000e+05\n",
       "max      7.700000e+06\n",
       "Name: Sale Price, dtype: float64"
      ]
     },
     "execution_count": 11,
     "metadata": {},
     "output_type": "execute_result"
    }
   ],
   "source": [
    "Raw_housing_Data['Sale Price'].describe()"
   ]
  },
  {
   "cell_type": "code",
   "execution_count": 12,
   "id": "d3ccb0fd",
   "metadata": {},
   "outputs": [],
   "source": [
    "q1 = Raw_housing_Data['Sale Price'].quantile(0.25)\n",
    "q3 = Raw_housing_Data['Sale Price'].quantile(0.75)\n",
    "\n",
    "iqr = q3-q1"
   ]
  },
  {
   "cell_type": "code",
   "execution_count": 13,
   "id": "dcc28cd4",
   "metadata": {},
   "outputs": [
    {
     "data": {
      "text/plain": [
       "323050.0"
      ]
     },
     "execution_count": 13,
     "metadata": {},
     "output_type": "execute_result"
    }
   ],
   "source": [
    "iqr"
   ]
  },
  {
   "cell_type": "code",
   "execution_count": 14,
   "id": "a1a4b6f2",
   "metadata": {},
   "outputs": [
    {
     "data": {
      "text/plain": [
       "(1129575.0, -162625.0)"
      ]
     },
     "execution_count": 14,
     "metadata": {},
     "output_type": "execute_result"
    }
   ],
   "source": [
    "upper_limit = q3 + 1.5*iqr\n",
    "lower_limit = q1 - 1.5*iqr\n",
    "upper_limit,lower_limit"
   ]
  },
  {
   "cell_type": "code",
   "execution_count": 15,
   "id": "1c5041ee",
   "metadata": {},
   "outputs": [],
   "source": [
    "def limit_imputer(value):\n",
    "    if value > upper_limit:\n",
    "        return upper_limit\n",
    "    if value < lower_limit:\n",
    "        return lower_limit\n",
    "    else:\n",
    "        return value\n",
    "    \n",
    "Raw_housing_Data['Sale Price'] = Raw_housing_Data['Sale Price'].apply(limit_imputer)"
   ]
  },
  {
   "cell_type": "code",
   "execution_count": 16,
   "id": "ec033cbb",
   "metadata": {},
   "outputs": [
    {
     "data": {
      "text/plain": [
       "count    2.160900e+04\n",
       "mean     5.116186e+05\n",
       "std      2.500620e+05\n",
       "min      7.500000e+04\n",
       "25%      3.219500e+05\n",
       "50%      4.500000e+05\n",
       "75%      6.450000e+05\n",
       "max      1.129575e+06\n",
       "Name: Sale Price, dtype: float64"
      ]
     },
     "execution_count": 16,
     "metadata": {},
     "output_type": "execute_result"
    }
   ],
   "source": [
    "Raw_housing_Data['Sale Price'].describe()"
   ]
  },
  {
   "cell_type": "code",
   "execution_count": 17,
   "id": "8eb4ef12",
   "metadata": {},
   "outputs": [],
   "source": [
    "Raw_housing_Data.dropna(inplace=True , axis=0 , subset = ['Sale Price'])"
   ]
  },
  {
   "cell_type": "code",
   "execution_count": 18,
   "id": "645b536a",
   "metadata": {},
   "outputs": [
    {
     "name": "stdout",
     "output_type": "stream",
     "text": [
      "<class 'pandas.core.frame.DataFrame'>\n",
      "Int64Index: 21609 entries, 0 to 21612\n",
      "Data columns (total 21 columns):\n",
      " #   Column                                     Non-Null Count  Dtype  \n",
      "---  ------                                     --------------  -----  \n",
      " 0   ID                                         21609 non-null  int64  \n",
      " 1   Date House was Sold                        21609 non-null  object \n",
      " 2   Sale Price                                 21609 non-null  float64\n",
      " 3   No of Bedrooms                             21609 non-null  int64  \n",
      " 4   No of Bathrooms                            21605 non-null  float64\n",
      " 5   Flat Area (in Sqft)                        21600 non-null  float64\n",
      " 6   Lot Area (in Sqft)                         21600 non-null  float64\n",
      " 7   No of Floors                               21609 non-null  float64\n",
      " 8   Waterfront View                            21609 non-null  object \n",
      " 9   No of Times Visited                        21609 non-null  object \n",
      " 10  Condition of the House                     21609 non-null  object \n",
      " 11  Overall Grade                              21609 non-null  int64  \n",
      " 12  Area of the House from Basement (in Sqft)  21606 non-null  float64\n",
      " 13  Basement Area (in Sqft)                    21609 non-null  int64  \n",
      " 14  Age of House (in Years)                    21609 non-null  int64  \n",
      " 15  Renovated Year                             21609 non-null  int64  \n",
      " 16  Zipcode                                    21608 non-null  float64\n",
      " 17  Latitude                                   21608 non-null  float64\n",
      " 18  Longitude                                  21608 non-null  float64\n",
      " 19  Living Area after Renovation (in Sqft)     21608 non-null  float64\n",
      " 20  Lot Area after Renovation (in Sqft)        21609 non-null  int64  \n",
      "dtypes: float64(10), int64(7), object(4)\n",
      "memory usage: 3.6+ MB\n"
     ]
    }
   ],
   "source": [
    "Raw_housing_Data.info()"
   ]
  },
  {
   "cell_type": "code",
   "execution_count": 19,
   "id": "f4486728",
   "metadata": {},
   "outputs": [
    {
     "data": {
      "image/png": "[encoded data removed]",
      "text/plain": [
       "<Figure size 432x288 with 1 Axes>"
      ]
     },
     "metadata": {
      "needs_background": "light"
     },
     "output_type": "display_data"
    }
   ],
   "source": [
    "plt.hist(Raw_housing_Data['Sale Price'] , bins= 10 , color='green')\n",
    "plt.xlabel(\"Intervals\")\n",
    "plt.ylabel(\"Sales Price\")\n",
    "plt.title(\"Histogram of Sales Price\")\n",
    "plt.show()"
   ]
  },
  {
   "cell_type": "code",
   "execution_count": 20,
   "id": "22f377cf",
   "metadata": {},
   "outputs": [
    {
     "name": "stdout",
     "output_type": "stream",
     "text": [
      "<class 'pandas.core.frame.DataFrame'>\n",
      "Int64Index: 21609 entries, 0 to 21612\n",
      "Data columns (total 21 columns):\n",
      " #   Column                                     Non-Null Count  Dtype  \n",
      "---  ------                                     --------------  -----  \n",
      " 0   ID                                         21609 non-null  int64  \n",
      " 1   Date House was Sold                        21609 non-null  object \n",
      " 2   Sale Price                                 21609 non-null  float64\n",
      " 3   No of Bedrooms                             21609 non-null  int64  \n",
      " 4   No of Bathrooms                            21605 non-null  float64\n",
      " 5   Flat Area (in Sqft)                        21600 non-null  float64\n",
      " 6   Lot Area (in Sqft)                         21600 non-null  float64\n",
      " 7   No of Floors                               21609 non-null  float64\n",
      " 8   Waterfront View                            21609 non-null  object \n",
      " 9   No of Times Visited                        21609 non-null  object \n",
      " 10  Condition of the House                     21609 non-null  object \n",
      " 11  Overall Grade                              21609 non-null  int64  \n",
      " 12  Area of the House from Basement (in Sqft)  21606 non-null  float64\n",
      " 13  Basement Area (in Sqft)                    21609 non-null  int64  \n",
      " 14  Age of House (in Years)                    21609 non-null  int64  \n",
      " 15  Renovated Year                             21609 non-null  int64  \n",
      " 16  Zipcode                                    21608 non-null  float64\n",
      " 17  Latitude                                   21608 non-null  float64\n",
      " 18  Longitude                                  21608 non-null  float64\n",
      " 19  Living Area after Renovation (in Sqft)     21608 non-null  float64\n",
      " 20  Lot Area after Renovation (in Sqft)        21609 non-null  int64  \n",
      "dtypes: float64(10), int64(7), object(4)\n",
      "memory usage: 3.6+ MB\n"
     ]
    }
   ],
   "source": [
    "Raw_housing_Data.info()"
   ]
  },
  {
   "cell_type": "code",
   "execution_count": 21,
   "id": "6026bb35",
   "metadata": {},
   "outputs": [],
   "source": [
    "numerical_columns = ['No of Bathrooms' , 'Flat Area (in Sqft)' , 'Lot Area (in Sqft)' , 'Area of the House from Basement (in Sqft)' , 'Zipcode' , 'Latitude' , 'Longitude' , 'Living Area after Renovation (in Sqft)']"
   ]
  },
  {
   "cell_type": "code",
   "execution_count": 22,
   "id": "501b61f9",
   "metadata": {},
   "outputs": [],
   "source": [
    "from sklearn.impute import SimpleImputer\n",
    "imputer = SimpleImputer(missing_values= np.nan , strategy='median')\n",
    "Raw_housing_Data[numerical_columns] = imputer.fit_transform(Raw_housing_Data[numerical_columns])"
   ]
  },
  {
   "cell_type": "code",
   "execution_count": null,
   "id": "b8406618",
   "metadata": {},
   "outputs": [],
   "source": []
  },
  {
   "cell_type": "code",
   "execution_count": 23,
   "id": "e3b76d46",
   "metadata": {},
   "outputs": [
    {
     "name": "stdout",
     "output_type": "stream",
     "text": [
      "<class 'pandas.core.frame.DataFrame'>\n",
      "Int64Index: 21609 entries, 0 to 21612\n",
      "Data columns (total 21 columns):\n",
      " #   Column                                     Non-Null Count  Dtype  \n",
      "---  ------                                     --------------  -----  \n",
      " 0   ID                                         21609 non-null  int64  \n",
      " 1   Date House was Sold                        21609 non-null  object \n",
      " 2   Sale Price                                 21609 non-null  float64\n",
      " 3   No of Bedrooms                             21609 non-null  int64  \n",
      " 4   No of Bathrooms                            21609 non-null  float64\n",
      " 5   Flat Area (in Sqft)                        21609 non-null  float64\n",
      " 6   Lot Area (in Sqft)                         21609 non-null  float64\n",
      " 7   No of Floors                               21609 non-null  float64\n",
      " 8   Waterfront View                            21609 non-null  object \n",
      " 9   No of Times Visited                        21609 non-null  object \n",
      " 10  Condition of the House                     21609 non-null  object \n",
      " 11  Overall Grade                              21609 non-null  int64  \n",
      " 12  Area of the House from Basement (in Sqft)  21609 non-null  float64\n",
      " 13  Basement Area (in Sqft)                    21609 non-null  int64  \n",
      " 14  Age of House (in Years)                    21609 non-null  int64  \n",
      " 15  Renovated Year                             21609 non-null  int64  \n",
      " 16  Zipcode                                    21609 non-null  float64\n",
      " 17  Latitude                                   21609 non-null  float64\n",
      " 18  Longitude                                  21609 non-null  float64\n",
      " 19  Living Area after Renovation (in Sqft)     21609 non-null  float64\n",
      " 20  Lot Area after Renovation (in Sqft)        21609 non-null  int64  \n",
      "dtypes: float64(10), int64(7), object(4)\n",
      "memory usage: 3.6+ MB\n"
     ]
    }
   ],
   "source": [
    "Raw_housing_Data.info()"
   ]
  },
  {
   "cell_type": "code",
   "execution_count": 24,
   "id": "2a6ed2ad",
   "metadata": {},
   "outputs": [
    {
     "data": {
      "text/plain": [
       "(21609, 21)"
      ]
     },
     "execution_count": 24,
     "metadata": {},
     "output_type": "execute_result"
    }
   ],
   "source": [
    "Raw_housing_Data.shape"
   ]
  },
  {
   "cell_type": "code",
   "execution_count": 27,
   "id": "4ea87a06",
   "metadata": {},
   "outputs": [
    {
     "data": {
      "text/plain": [
       "array(['None', 'Thrice', 'Four', 'Twice', 'Once'], dtype=object)"
      ]
     },
     "execution_count": 27,
     "metadata": {},
     "output_type": "execute_result"
    }
   ],
   "source": [
    "Raw_housing_Data['No of Times Visited'].unique()"
   ]
  },
  {
   "cell_type": "code",
   "execution_count": 28,
   "id": "1443bb03",
   "metadata": {},
   "outputs": [],
   "source": [
    "mapping = { 'None' : '0',\n",
    "          'Once' : '1' ,\n",
    "          'Twice' : '2' ,\n",
    "          'Thrice' : '3' ,\n",
    "          'Four' : '4'}"
   ]
  },
  {
   "cell_type": "code",
   "execution_count": 29,
   "id": "6326d490",
   "metadata": {},
   "outputs": [],
   "source": [
    "Raw_housing_Data['No of Times Visited'] = Raw_housing_Data['No of Times Visited'].map(mapping)"
   ]
  },
  {
   "cell_type": "code",
   "execution_count": 30,
   "id": "2a1a987c",
   "metadata": {},
   "outputs": [
    {
     "data": {
      "text/plain": [
       "array(['0', '3', '4', '2', '1'], dtype=object)"
      ]
     },
     "execution_count": 30,
     "metadata": {},
     "output_type": "execute_result"
    }
   ],
   "source": [
    "Raw_housing_Data['No of Times Visited'].unique()"
   ]
  },
  {
   "cell_type": "code",
   "execution_count": 31,
   "id": "287c3397",
   "metadata": {},
   "outputs": [
    {
     "name": "stdout",
     "output_type": "stream",
     "text": [
      "<class 'pandas.core.frame.DataFrame'>\n",
      "Int64Index: 21609 entries, 0 to 21612\n",
      "Data columns (total 21 columns):\n",
      " #   Column                                     Non-Null Count  Dtype  \n",
      "---  ------                                     --------------  -----  \n",
      " 0   ID                                         21609 non-null  int64  \n",
      " 1   Date House was Sold                        21609 non-null  object \n",
      " 2   Sale Price                                 21609 non-null  float64\n",
      " 3   No of Bedrooms                             21609 non-null  int64  \n",
      " 4   No of Bathrooms                            21609 non-null  float64\n",
      " 5   Flat Area (in Sqft)                        21609 non-null  float64\n",
      " 6   Lot Area (in Sqft)                         21609 non-null  float64\n",
      " 7   No of Floors                               21609 non-null  float64\n",
      " 8   Waterfront View                            21609 non-null  object \n",
      " 9   No of Times Visited                        21609 non-null  object \n",
      " 10  Condition of the House                     21609 non-null  object \n",
      " 11  Overall Grade                              21609 non-null  int64  \n",
      " 12  Area of the House from Basement (in Sqft)  21609 non-null  float64\n",
      " 13  Basement Area (in Sqft)                    21609 non-null  int64  \n",
      " 14  Age of House (in Years)                    21609 non-null  int64  \n",
      " 15  Renovated Year                             21609 non-null  int64  \n",
      " 16  Zipcode                                    21609 non-null  float64\n",
      " 17  Latitude                                   21609 non-null  float64\n",
      " 18  Longitude                                  21609 non-null  float64\n",
      " 19  Living Area after Renovation (in Sqft)     21609 non-null  float64\n",
      " 20  Lot Area after Renovation (in Sqft)        21609 non-null  int64  \n",
      "dtypes: float64(10), int64(7), object(4)\n",
      "memory usage: 3.6+ MB\n"
     ]
    }
   ],
   "source": [
    "Raw_housing_Data.info()"
   ]
  },
  {
   "cell_type": "code",
   "execution_count": 32,
   "id": "5fd1e12a",
   "metadata": {},
   "outputs": [
    {
     "data": {
      "text/html": [
       "<div>\n",
       "<style scoped>\n",
       "    .dataframe tbody tr th:only-of-type {\n",
       "        vertical-align: middle;\n",
       "    }\n",
       "\n",
       "    .dataframe tbody tr th {\n",
       "        vertical-align: top;\n",
       "    }\n",
       "\n",
       "    .dataframe thead th {\n",
       "        text-align: right;\n",
       "    }\n",
       "</style>\n",
       "<table border=\"1\" class=\"dataframe\">\n",
       "  <thead>\n",
       "    <tr style=\"text-align: right;\">\n",
       "      <th></th>\n",
       "      <th>ID</th>\n",
       "      <th>Date House was Sold</th>\n",
       "      <th>Sale Price</th>\n",
       "      <th>No of Bedrooms</th>\n",
       "      <th>No of Bathrooms</th>\n",
       "      <th>Flat Area (in Sqft)</th>\n",
       "      <th>Lot Area (in Sqft)</th>\n",
       "      <th>No of Floors</th>\n",
       "      <th>Waterfront View</th>\n",
       "      <th>No of Times Visited</th>\n",
       "      <th>...</th>\n",
       "      <th>Overall Grade</th>\n",
       "      <th>Area of the House from Basement (in Sqft)</th>\n",
       "      <th>Basement Area (in Sqft)</th>\n",
       "      <th>Age of House (in Years)</th>\n",
       "      <th>Renovated Year</th>\n",
       "      <th>Zipcode</th>\n",
       "      <th>Latitude</th>\n",
       "      <th>Longitude</th>\n",
       "      <th>Living Area after Renovation (in Sqft)</th>\n",
       "      <th>Lot Area after Renovation (in Sqft)</th>\n",
       "    </tr>\n",
       "  </thead>\n",
       "  <tbody>\n",
       "    <tr>\n",
       "      <th>0</th>\n",
       "      <td>7129300520</td>\n",
       "      <td>14 October 2017</td>\n",
       "      <td>221900.0</td>\n",
       "      <td>3</td>\n",
       "      <td>1.00</td>\n",
       "      <td>1180.0</td>\n",
       "      <td>5650.0</td>\n",
       "      <td>1.0</td>\n",
       "      <td>No</td>\n",
       "      <td>0</td>\n",
       "      <td>...</td>\n",
       "      <td>7</td>\n",
       "      <td>1180.0</td>\n",
       "      <td>0</td>\n",
       "      <td>63</td>\n",
       "      <td>0</td>\n",
       "      <td>98178.0</td>\n",
       "      <td>47.5112</td>\n",
       "      <td>-122.257</td>\n",
       "      <td>1340.0</td>\n",
       "      <td>5650</td>\n",
       "    </tr>\n",
       "    <tr>\n",
       "      <th>1</th>\n",
       "      <td>6414100192</td>\n",
       "      <td>14 December 2017</td>\n",
       "      <td>538000.0</td>\n",
       "      <td>3</td>\n",
       "      <td>2.25</td>\n",
       "      <td>2570.0</td>\n",
       "      <td>7242.0</td>\n",
       "      <td>2.0</td>\n",
       "      <td>No</td>\n",
       "      <td>0</td>\n",
       "      <td>...</td>\n",
       "      <td>7</td>\n",
       "      <td>2170.0</td>\n",
       "      <td>400</td>\n",
       "      <td>67</td>\n",
       "      <td>1991</td>\n",
       "      <td>98125.0</td>\n",
       "      <td>47.7210</td>\n",
       "      <td>-122.319</td>\n",
       "      <td>1690.0</td>\n",
       "      <td>7639</td>\n",
       "    </tr>\n",
       "    <tr>\n",
       "      <th>2</th>\n",
       "      <td>5631500400</td>\n",
       "      <td>15 February 2016</td>\n",
       "      <td>180000.0</td>\n",
       "      <td>2</td>\n",
       "      <td>1.00</td>\n",
       "      <td>770.0</td>\n",
       "      <td>10000.0</td>\n",
       "      <td>1.0</td>\n",
       "      <td>No</td>\n",
       "      <td>0</td>\n",
       "      <td>...</td>\n",
       "      <td>6</td>\n",
       "      <td>770.0</td>\n",
       "      <td>0</td>\n",
       "      <td>85</td>\n",
       "      <td>0</td>\n",
       "      <td>98028.0</td>\n",
       "      <td>47.7379</td>\n",
       "      <td>-122.233</td>\n",
       "      <td>2720.0</td>\n",
       "      <td>8062</td>\n",
       "    </tr>\n",
       "    <tr>\n",
       "      <th>3</th>\n",
       "      <td>2487200875</td>\n",
       "      <td>14 December 2017</td>\n",
       "      <td>604000.0</td>\n",
       "      <td>4</td>\n",
       "      <td>3.00</td>\n",
       "      <td>1960.0</td>\n",
       "      <td>5000.0</td>\n",
       "      <td>1.0</td>\n",
       "      <td>No</td>\n",
       "      <td>0</td>\n",
       "      <td>...</td>\n",
       "      <td>7</td>\n",
       "      <td>1050.0</td>\n",
       "      <td>910</td>\n",
       "      <td>53</td>\n",
       "      <td>0</td>\n",
       "      <td>98136.0</td>\n",
       "      <td>47.5208</td>\n",
       "      <td>-122.393</td>\n",
       "      <td>1360.0</td>\n",
       "      <td>5000</td>\n",
       "    </tr>\n",
       "    <tr>\n",
       "      <th>4</th>\n",
       "      <td>1954400510</td>\n",
       "      <td>15 February 2016</td>\n",
       "      <td>510000.0</td>\n",
       "      <td>3</td>\n",
       "      <td>2.00</td>\n",
       "      <td>1680.0</td>\n",
       "      <td>8080.0</td>\n",
       "      <td>1.0</td>\n",
       "      <td>No</td>\n",
       "      <td>0</td>\n",
       "      <td>...</td>\n",
       "      <td>8</td>\n",
       "      <td>1680.0</td>\n",
       "      <td>0</td>\n",
       "      <td>31</td>\n",
       "      <td>0</td>\n",
       "      <td>98074.0</td>\n",
       "      <td>47.6168</td>\n",
       "      <td>-122.045</td>\n",
       "      <td>1800.0</td>\n",
       "      <td>7503</td>\n",
       "    </tr>\n",
       "  </tbody>\n",
       "</table>\n",
       "<p>5 rows × 21 columns</p>\n",
       "</div>"
      ],
      "text/plain": [
       "           ID Date House was Sold  Sale Price  No of Bedrooms  \\\n",
       "0  7129300520     14 October 2017    221900.0               3   \n",
       "1  6414100192    14 December 2017    538000.0               3   \n",
       "2  5631500400    15 February 2016    180000.0               2   \n",
       "3  2487200875    14 December 2017    604000.0               4   \n",
       "4  1954400510    15 February 2016    510000.0               3   \n",
       "\n",
       "   No of Bathrooms  Flat Area (in Sqft)  Lot Area (in Sqft)  No of Floors  \\\n",
       "0             1.00               1180.0              5650.0           1.0   \n",
       "1             2.25               2570.0              7242.0           2.0   \n",
       "2             1.00                770.0             10000.0           1.0   \n",
       "3             3.00               1960.0              5000.0           1.0   \n",
       "4             2.00               1680.0              8080.0           1.0   \n",
       "\n",
       "  Waterfront View No of Times Visited  ... Overall Grade  \\\n",
       "0              No                   0  ...             7   \n",
       "1              No                   0  ...             7   \n",
       "2              No                   0  ...             6   \n",
       "3              No                   0  ...             7   \n",
       "4              No                   0  ...             8   \n",
       "\n",
       "   Area of the House from Basement (in Sqft)  Basement Area (in Sqft)  \\\n",
       "0                                     1180.0                        0   \n",
       "1                                     2170.0                      400   \n",
       "2                                      770.0                        0   \n",
       "3                                     1050.0                      910   \n",
       "4                                     1680.0                        0   \n",
       "\n",
       "   Age of House (in Years)  Renovated Year  Zipcode  Latitude  Longitude  \\\n",
       "0                       63               0  98178.0   47.5112   -122.257   \n",
       "1                       67            1991  98125.0   47.7210   -122.319   \n",
       "2                       85               0  98028.0   47.7379   -122.233   \n",
       "3                       53               0  98136.0   47.5208   -122.393   \n",
       "4                       31               0  98074.0   47.6168   -122.045   \n",
       "\n",
       "   Living Area after Renovation (in Sqft)  Lot Area after Renovation (in Sqft)  \n",
       "0                                  1340.0                                 5650  \n",
       "1                                  1690.0                                 7639  \n",
       "2                                  2720.0                                 8062  \n",
       "3                                  1360.0                                 5000  \n",
       "4                                  1800.0                                 7503  \n",
       "\n",
       "[5 rows x 21 columns]"
      ]
     },
     "execution_count": 32,
     "metadata": {},
     "output_type": "execute_result"
    }
   ],
   "source": [
    "Raw_housing_Data.head()"
   ]
  },
  {
   "cell_type": "code",
   "execution_count": 33,
   "id": "2415e209",
   "metadata": {},
   "outputs": [],
   "source": [
    "Raw_housing_Data.drop(columns=['Date House was Sold' , 'Renovated Year'] , inplace=True)"
   ]
  },
  {
   "cell_type": "code",
   "execution_count": null,
   "id": "009357e3",
   "metadata": {},
   "outputs": [],
   "source": []
  }
 ],
 "metadata": {
  "kernelspec": {
   "display_name": "Python 3 (ipykernel)",
   "language": "python",
   "name": "python3"
  },
  "language_info": {
   "codemirror_mode": {
    "name": "ipython",
    "version": 3
   },
   "file_extension": ".py",
   "mimetype": "text/x-python",
   "name": "python",
   "nbconvert_exporter": "python",
   "pygments_lexer": "ipython3",
   "version": "3.9.7"
  }
 },
 "nbformat": 4,
 "nbformat_minor": 5
}
